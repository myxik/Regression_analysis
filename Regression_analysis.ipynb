{
 "cells": [
  {
   "cell_type": "markdown",
   "metadata": {},
   "source": [
    "First of all, we should gather the data from the file, presented before and arrange it in a manner, that we are ok to interpret"
   ]
  },
  {
   "cell_type": "code",
   "execution_count": 2,
   "metadata": {},
   "outputs": [
    {
     "name": "stdout",
     "output_type": "stream",
     "text": [
      "[[-22.9     3.9   -16.2   ...   0.816 -17.2     5.63 ]\n",
      " [  0.571   5.26    5.44  ...  -8.12    5.21    4.49 ]\n",
      " [-12.9    -2.38   11.4   ...  18.2    17.9    -3.84 ]\n",
      " ...\n",
      " [-24.6    11.4     9.84  ... -15.      0.342  11.5  ]\n",
      " [ -8.14   14.5    13.    ...   5.69  -11.1    13.4  ]\n",
      " [ -8.25   17.7     7.54  ... -19.6    -0.484  17.   ]]\n"
     ]
    }
   ],
   "source": [
    "import numpy as np\n",
    "def read_data(filename):\n",
    "    with open(filename, 'r') as r:\n",
    "        lst = r.readlines()\n",
    "    data = []\n",
    "    for x in lst:\n",
    "        data.append(x.split(' '))\n",
    "    return np.array(data, dtype=np.float64)\n",
    "assert read_data(\"data24.txt\").shape==(300L, 14L)\n",
    "data = read_data(\"data24.txt\")\n",
    "Y = data[:,13]\n",
    "X = data[:,0:13]\n",
    "print X"
   ]
  },
  {
   "cell_type": "markdown",
   "metadata": {},
   "source": [
    "Secondly, we need to calculate correlation and covariance between each variable $X_{i}$ and $Y$"
   ]
  },
  {
   "cell_type": "code",
   "execution_count": 4,
   "metadata": {},
   "outputs": [
    {
     "name": "stdout",
     "output_type": "stream",
     "text": [
      "[-195.9531847   478.05295928    1.62537485 -189.17040318 -991.29616939\n",
      "  -55.22065685 -994.21876048 -107.64001321  161.86788416  159.22776018\n",
      "  -62.05153429 -114.74343426  481.32272635]\n",
      "[-0.18109076  0.48372845  0.00175271 -0.17712214 -0.89714048 -0.05368896\n",
      " -0.88919166 -0.10695506  0.14943162  0.14838057 -0.06116469 -0.11362048\n",
      "  0.48548252]\n"
     ]
    }
   ],
   "source": [
    "def cov(X, Y):\n",
    "    '''\n",
    "    Calculates covariance, returns an array of covariances between X_i and Y\n",
    "    \n",
    "    \n",
    "    Keyword arguments:\n",
    "    X - an array of X_i\n",
    "    Y - an array of Y\n",
    "    '''\n",
    "    cov = []\n",
    "    for i in X.T:\n",
    "        cov.append(np.cov(i, Y)[0][1])\n",
    "    return np.array(cov)\n",
    "assert cov(X, Y).shape==(13L,)\n",
    "print cov(X, Y)\n",
    "def corr(X, Y):\n",
    "    '''\n",
    "    Calculates correlation between X_i and Y, return array of them\n",
    "    \n",
    "    \n",
    "    Keyword arguments:\n",
    "    X - an array of X_i\n",
    "    Y - an array of Y\n",
    "    '''\n",
    "    corr = []\n",
    "    for i in X.T:\n",
    "        corr.append(np.corrcoef(i, Y)[0][1])\n",
    "    return np.array(corr)\n",
    "assert corr(X, Y).shape==(13L, )\n",
    "print corr(X, Y)"
   ]
  },
  {
   "cell_type": "markdown",
   "metadata": {},
   "source": [
    "As we has no measured covariance and correlation, we are going to calculate the absolute value of correlation for every single $X_{i}$"
   ]
  },
  {
   "cell_type": "code",
   "execution_count": 219,
   "metadata": {},
   "outputs": [
    {
     "name": "stdout",
     "output_type": "stream",
     "text": [
      "[1.67915325e-04 4.91108345e-04 1.89633990e-06 1.66395879e-04\n",
      " 8.14643396e-04 5.23743237e-05 7.97919125e-04 1.06629892e-04\n",
      " 1.38412199e-04 1.38734785e-04 6.04921589e-05 1.12884806e-04\n",
      " 4.91315986e-04]\n"
     ]
    }
   ],
   "source": [
    "def abs_corr(X, Y):\n",
    "    '''\n",
    "    Calculates the absolute correlation value between X_i and Y\n",
    "    \n",
    "    \n",
    "    Keyword arguments:\n",
    "    X - an array of X_i\n",
    "    Y - an array of Y\n",
    "    '''\n",
    "    abs_corr = []\n",
    "    for i in range(X.T.shape[0]):\n",
    "        abs_corr.append(abs(corr(X, Y)[i]/(np.std(X[:,i])*(np.std(Y)))))\n",
    "    return np.array(abs_corr)\n",
    "assert abs_corr(X, Y).shape==(13L,)\n",
    "print abs_corr(X, Y)"
   ]
  },
  {
   "cell_type": "markdown",
   "metadata": {},
   "source": [
    "Now, we will construct correlation matrix for each $X_{i}$ and $X_{j}$"
   ]
  },
  {
   "cell_type": "code",
   "execution_count": 5,
   "metadata": {},
   "outputs": [
    {
     "name": "stdout",
     "output_type": "stream",
     "text": [
      "[[ 1.          0.00127089  0.0467664   0.99543384 -0.02184728  0.01790313\n",
      "  -0.02811257  0.09825995  0.00764607  0.01242708  0.02625521  0.09854991\n",
      "   0.01003171]\n",
      " [ 0.00127089  1.         -0.01597775  0.00625053 -0.12426733 -0.05701641\n",
      "  -0.1187771  -0.08764857 -0.00605207 -0.00914663 -0.05535499 -0.09876143\n",
      "   0.99440271]\n",
      " [ 0.0467664  -0.01597775  1.          0.0477636  -0.02399658 -0.06952458\n",
      "  -0.02591803  0.05392059 -0.04784749 -0.04611767 -0.06954197  0.05120161\n",
      "  -0.02063945]\n",
      " [ 0.99543384  0.00625053  0.0477636   1.         -0.02397106  0.01232022\n",
      "  -0.03139383  0.10107325  0.01475409  0.01960465  0.01976444  0.10098972\n",
      "   0.01533637]\n",
      " [-0.02184728 -0.12426733 -0.02399658 -0.02397106  1.         -0.02395992\n",
      "   0.99589819  0.0616776  -0.0640756  -0.06535888 -0.01758176  0.0652481\n",
      "  -0.12599294]\n",
      " [ 0.01790313 -0.05701641 -0.06952458  0.01232022 -0.02395992  1.\n",
      "  -0.03843453 -0.02558593  0.01407753  0.01661446  0.99455808 -0.02373528\n",
      "  -0.06428192]\n",
      " [-0.02811257 -0.1187771  -0.02591803 -0.03139383  0.99589819 -0.03843453\n",
      "   1.          0.04552288 -0.06146302 -0.06295262 -0.032938    0.04862214\n",
      "  -0.12047364]\n",
      " [ 0.09825995 -0.08764857  0.05392059  0.10107325  0.0616776  -0.02558593\n",
      "   0.04552288  1.         -0.12072634 -0.12370882 -0.02615874  0.9947138\n",
      "  -0.08324602]\n",
      " [ 0.00764607 -0.00605207 -0.04784749  0.01475409 -0.0640756   0.01407753\n",
      "  -0.06146302 -0.12072634  1.          0.99615276  0.00615885 -0.11676352\n",
      "  -0.00921916]\n",
      " [ 0.01242708 -0.00914663 -0.04611767  0.01960465 -0.06535888  0.01661446\n",
      "  -0.06295262 -0.12370882  0.99615276  1.          0.00909792 -0.11825544\n",
      "  -0.0128013 ]\n",
      " [ 0.02625521 -0.05535499 -0.06954197  0.01976444 -0.01758176  0.99455808\n",
      "  -0.032938   -0.02615874  0.00615885  0.00909792  1.         -0.02357755\n",
      "  -0.06290245]\n",
      " [ 0.09854991 -0.09876143  0.05120161  0.10098972  0.0652481  -0.02373528\n",
      "   0.04862214  0.9947138  -0.11676352 -0.11825544 -0.02357755  1.\n",
      "  -0.09386434]\n",
      " [ 0.01003171  0.99440271 -0.02063945  0.01533637 -0.12599294 -0.06428192\n",
      "  -0.12047364 -0.08324602 -0.00921916 -0.0128013  -0.06290245 -0.09386434\n",
      "   1.        ]]\n"
     ]
    }
   ],
   "source": [
    "def corr_matrix(X):\n",
    "    '''\n",
    "    Outputs correlation matrix for X_i and X_j, where a_ij represents i, j correlation between X_i and X_j\n",
    "    \n",
    "    \n",
    "    Keyword arguments:\n",
    "    X - an array of X_i\n",
    "    '''\n",
    "    return np.corrcoef(X.T)\n",
    "assert corr_matrix(X).shape==(13L, 13L)\n",
    "print corr_matrix(X)"
   ]
  },
  {
   "cell_type": "markdown",
   "metadata": {},
   "source": [
    "Using scikit-learn we will calculate the least-square errors, i.e. the linear regression"
   ]
  },
  {
   "cell_type": "code",
   "execution_count": 6,
   "metadata": {},
   "outputs": [],
   "source": [
    "from sklearn.linear_model import LinearRegression\n",
    "X = np.hstack((X, np.ones((300, 1))))\n",
    "assert X.shape==(300L, 14L)\n",
    "regressor = LinearRegression(fit_intercept=False)\n",
    "\n",
    "def train(X, Y, regressor):\n",
    "    '''\n",
    "    Inputs X and Y data to train a regressor\n",
    "    \n",
    "    \n",
    "    Keyword arguments:\n",
    "    X - an array of X_i\n",
    "    Y - an array of Y\n",
    "    regressor - an instance of Scikit-learn for a linear regression\n",
    "    '''\n",
    "    return regressor.fit(X, Y)"
   ]
  },
  {
   "cell_type": "code",
   "execution_count": 7,
   "metadata": {},
   "outputs": [],
   "source": [
    "trained_regressor = train(X, Y, regressor)"
   ]
  },
  {
   "cell_type": "markdown",
   "metadata": {},
   "source": [
    "With built-in scikit-learn features, we can easily get the coefficient for each value of "
   ]
  },
  {
   "cell_type": "code",
   "execution_count": 8,
   "metadata": {},
   "outputs": [
    {
     "name": "stdout",
     "output_type": "stream",
     "text": [
      "[ 2.89117137e-03  8.67160411e-03 -9.25746948e-04 -2.00513372e+00\n",
      " -7.99380744e+00  1.12753615e-02 -7.37231333e-03  9.26076938e-02\n",
      "  9.56608752e-03  9.93967255e-01 -5.12428662e-01  4.13749922e-03\n",
      "  3.99146335e+00  1.00023348e+01]\n"
     ]
    }
   ],
   "source": [
    "print trained_regressor.coef_"
   ]
  },
  {
   "cell_type": "markdown",
   "metadata": {},
   "source": [
    "Now, we need to compute the variance of the noise. We have $Y = f(X) + \\epsilon$. $$Var(Y)=mean((Y-f(X))^2)$$"
   ]
  },
  {
   "cell_type": "code",
   "execution_count": 14,
   "metadata": {},
   "outputs": [
    {
     "data": {
      "text/plain": [
       "0.06456894746220457"
      ]
     },
     "execution_count": 14,
     "metadata": {},
     "output_type": "execute_result"
    }
   ],
   "source": [
    "def variance(X, Y, regressor):\n",
    "    '''\n",
    "    Outputs a variance for the noise\n",
    "    \n",
    "    \n",
    "    Keyword arguments:\n",
    "    X - an array of X_i\n",
    "    Y - an array of Y\n",
    "    regressor - an instance of Scikit-learn class to obtain f(X)\n",
    "    '''\n",
    "    return np.mean((Y-regressor.predict(X))**2)\n",
    "variance(X, Y, trained_regressor)"
   ]
  },
  {
   "cell_type": "markdown",
   "metadata": {},
   "source": [
    "t-value is an intermediate step in calculating the p-value, that actually in machine learning holds the significance of the concrete variable"
   ]
  },
  {
   "cell_type": "code",
   "execution_count": 13,
   "metadata": {
    "scrolled": true
   },
   "outputs": [
    {
     "name": "stdout",
     "output_type": "stream",
     "text": [
      "[ 2.24758088e+00  6.74125784e+00 -7.19670639e-01 -1.55878004e+03\n",
      " -6.21434240e+03  8.76540467e+00 -5.73119626e+00  7.19927172e+01\n",
      "  7.43662438e+00  7.72704735e+02 -3.98359253e+02  3.21646937e+00\n",
      "  3.10294188e+03  7.77576061e+03]\n"
     ]
    }
   ],
   "source": [
    "t_val = trained_regressor.coef_/(np.sqrt(np.var(np.linalg.inv(np.matmul(X.T, X)))))\n",
    "print t_val"
   ]
  },
  {
   "cell_type": "markdown",
   "metadata": {},
   "source": [
    "Residual is $Y-Y_{pred}$. Q-Q plot is drawing quantiles-quantiles"
   ]
  },
  {
   "cell_type": "code",
   "execution_count": 197,
   "metadata": {},
   "outputs": [
    {
     "data": {
      "image/png": "[encoded data removed]",
      "text/plain": [
       "<Figure size 432x288 with 1 Axes>"
      ]
     },
     "metadata": {
      "needs_background": "light"
     },
     "output_type": "display_data"
    }
   ],
   "source": [
    "import statsmodels.api as sm\n",
    "from matplotlib import pyplot as plt\n",
    "def calculate_residuals(X, Y, regressor):\n",
    "    '''\n",
    "    Outputs a vector of residuals, that is Y - Y_pred\n",
    "    \n",
    "    \n",
    "    Keyword arguments:\n",
    "    X - an array of X_i\n",
    "    Y - an array of Y\n",
    "    regressor - an instance of Scikit-learn class to obtain Y_pred\n",
    "    '''\n",
    "    return Y - regressor.predict(X)\n",
    "\n",
    "def show_qq(residuals):\n",
    "    '''\n",
    "    Draws QQ-plot for all residuals\n",
    "    \n",
    "    \n",
    "    Keyword arguments:\n",
    "    residuals - an array of residuals\n",
    "    '''\n",
    "    fig = sm.qqplot(Y-trained_regressor.predict(X))\n",
    "    return plt.show(fig)\n",
    "show_qq(calculate_residuals(X, Y, trained_regressor)) #Not so good approximation of Normal distribution(best(slope=1, inter=0))"
   ]
  },
  {
   "cell_type": "markdown",
   "metadata": {},
   "source": [
    "Now, we will draw residuals vs Y graph"
   ]
  },
  {
   "cell_type": "code",
   "execution_count": 198,
   "metadata": {},
   "outputs": [
    {
     "data": {
      "image/png": "[encoded data removed]",
      "text/plain": [
       "<Figure size 432x288 with 1 Axes>"
      ]
     },
     "metadata": {
      "needs_background": "light"
     },
     "output_type": "display_data"
    }
   ],
   "source": [
    "def show_res_vs_y(Y, residuals):\n",
    "    '''\n",
    "    Draws residuals vs Y\n",
    "    \n",
    "    \n",
    "    Keyword arguments:\n",
    "    Y - an array of Y\n",
    "    residuals - an array of residuals\n",
    "    '''\n",
    "    return plt. show(plt. scatter(Y, residuals))\n",
    "show_res_vs_y(Y, calculate_residuals(X, Y, trained_regressor))"
   ]
  },
  {
   "cell_type": "markdown",
   "metadata": {},
   "source": [
    "Now, we will calculate $R^2$"
   ]
  },
  {
   "cell_type": "code",
   "execution_count": 199,
   "metadata": {},
   "outputs": [
    {
     "data": {
      "text/plain": [
       "0.9999937803972268"
      ]
     },
     "execution_count": 199,
     "metadata": {},
     "output_type": "execute_result"
    }
   ],
   "source": [
    "from sklearn.metrics import r2_score\n",
    "def calculate_R2(Y, X, regressor):\n",
    "    '''\n",
    "    Outputs the value of the coefficient of the determination\n",
    "    \n",
    "    \n",
    "    Keyword arguments:\n",
    "    Y - an array of Y\n",
    "    X - an array of X\n",
    "    regressor - an instance of Scikit-learn class to obtain Y_pred\n",
    "    '''\n",
    "    return r2_score(Y, regressor.predict(X))\n",
    "calculate_R2(Y, X, trained_regressor)"
   ]
  },
  {
   "cell_type": "code",
   "execution_count": null,
   "metadata": {},
   "outputs": [],
   "source": []
  }
 ],
 "metadata": {
  "kernelspec": {
   "display_name": "Python 2",
   "language": "python",
   "name": "python2"
  },
  "language_info": {
   "codemirror_mode": {
    "name": "ipython",
    "version": 2
   },
   "file_extension": ".py",
   "mimetype": "text/x-python",
   "name": "python",
   "nbconvert_exporter": "python",
   "pygments_lexer": "ipython2",
   "version": "2.7.15"
  }
 },
 "nbformat": 4,
 "nbformat_minor": 2
}
